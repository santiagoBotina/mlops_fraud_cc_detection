{
 "cells": [
  {
   "cell_type": "code",
   "id": "initial_id",
   "metadata": {
    "collapsed": true,
    "ExecuteTime": {
     "end_time": "2024-08-12T20:28:55.875760Z",
     "start_time": "2024-08-12T20:28:54.236067Z"
    }
   },
   "source": [
    "import pandas as pd\n",
    "from sklearn.model_selection import train_test_split\n",
    "from sklearn.metrics import accuracy_score, classification_report\n",
    "from sklearn.linear_model import LogisticRegression\n",
    "import pickle\n",
    "\n",
    "from sklearn.preprocessing import StandardScaler"
   ],
   "outputs": [],
   "execution_count": 1
  },
  {
   "metadata": {
    "ExecuteTime": {
     "end_time": "2024-08-12T20:30:52.711496Z",
     "start_time": "2024-08-12T20:30:52.686960Z"
    }
   },
   "cell_type": "code",
   "source": [
    "data = pd.read_csv('../data/Iris.csv')\n",
    "data = data.drop(columns = ['Id'])\n",
    "\n",
    "X = data.drop(columns = ['Species'])\n",
    "Y = data['Species']\n",
    "\n",
    "X_train, X_test, Y_train, Y_test = train_test_split(X, Y, test_size = 0.25)"
   ],
   "id": "9cd7186ba16bbfaa",
   "outputs": [
    {
     "name": "stdout",
     "output_type": "stream",
     "text": [
      "X_train      SepalLengthCm  SepalWidthCm  PetalLengthCm  PetalWidthCm\n",
      "129            7.2           3.0            5.8           1.6\n",
      "134            6.1           2.6            5.6           1.4\n",
      "1              4.9           3.0            1.4           0.2\n",
      "128            6.4           2.8            5.6           2.1\n",
      "125            7.2           3.2            6.0           1.8\n",
      "..             ...           ...            ...           ...\n",
      "18             5.7           3.8            1.7           0.3\n",
      "79             5.7           2.6            3.5           1.0\n",
      "72             6.3           2.5            4.9           1.5\n",
      "33             5.5           4.2            1.4           0.2\n",
      "103            6.3           2.9            5.6           1.8\n",
      "\n",
      "[112 rows x 4 columns]\n",
      "X_test      SepalLengthCm  SepalWidthCm  PetalLengthCm  PetalWidthCm\n",
      "108            6.7           2.5            5.8           1.8\n",
      "104            6.5           3.0            5.8           2.2\n",
      "29             4.7           3.2            1.6           0.2\n",
      "68             6.2           2.2            4.5           1.5\n",
      "98             5.1           2.5            3.0           1.1\n",
      "94             5.6           2.7            4.2           1.3\n",
      "39             5.1           3.4            1.5           0.2\n",
      "109            7.2           3.6            6.1           2.5\n",
      "85             6.0           3.4            4.5           1.6\n",
      "40             5.0           3.5            1.3           0.3\n",
      "26             5.0           3.4            1.6           0.4\n",
      "114            5.8           2.8            5.1           2.4\n",
      "64             5.6           2.9            3.6           1.3\n",
      "2              4.7           3.2            1.3           0.2\n",
      "4              5.0           3.6            1.4           0.2\n",
      "113            5.7           2.5            5.0           2.0\n",
      "24             4.8           3.4            1.9           0.2\n",
      "11             4.8           3.4            1.6           0.2\n",
      "15             5.7           4.4            1.5           0.4\n",
      "89             5.5           2.5            4.0           1.3\n",
      "130            7.4           2.8            6.1           1.9\n",
      "12             4.8           3.0            1.4           0.1\n",
      "131            7.9           3.8            6.4           2.0\n",
      "119            6.0           2.2            5.0           1.5\n",
      "17             5.1           3.5            1.4           0.3\n",
      "127            6.1           3.0            4.9           1.8\n",
      "78             6.0           2.9            4.5           1.5\n",
      "42             4.4           3.2            1.3           0.2\n",
      "73             6.1           2.8            4.7           1.2\n",
      "75             6.6           3.0            4.4           1.4\n",
      "67             5.8           2.7            4.1           1.0\n",
      "101            5.8           2.7            5.1           1.9\n",
      "145            6.7           3.0            5.2           2.3\n",
      "53             5.5           2.3            4.0           1.3\n",
      "121            5.6           2.8            4.9           2.0\n",
      "97             6.2           2.9            4.3           1.3\n",
      "92             5.8           2.6            4.0           1.2\n",
      "45             4.8           3.0            1.4           0.3\n",
      "Y_train 129     Iris-virginica\n",
      "134     Iris-virginica\n",
      "1          Iris-setosa\n",
      "128     Iris-virginica\n",
      "125     Iris-virginica\n",
      "            ...       \n",
      "18         Iris-setosa\n",
      "79     Iris-versicolor\n",
      "72     Iris-versicolor\n",
      "33         Iris-setosa\n",
      "103     Iris-virginica\n",
      "Name: Species, Length: 112, dtype: object\n",
      "Y_test 108     Iris-virginica\n",
      "104     Iris-virginica\n",
      "29         Iris-setosa\n",
      "68     Iris-versicolor\n",
      "98     Iris-versicolor\n",
      "94     Iris-versicolor\n",
      "39         Iris-setosa\n",
      "109     Iris-virginica\n",
      "85     Iris-versicolor\n",
      "40         Iris-setosa\n",
      "26         Iris-setosa\n",
      "114     Iris-virginica\n",
      "64     Iris-versicolor\n",
      "2          Iris-setosa\n",
      "4          Iris-setosa\n",
      "113     Iris-virginica\n",
      "24         Iris-setosa\n",
      "11         Iris-setosa\n",
      "15         Iris-setosa\n",
      "89     Iris-versicolor\n",
      "130     Iris-virginica\n",
      "12         Iris-setosa\n",
      "131     Iris-virginica\n",
      "119     Iris-virginica\n",
      "17         Iris-setosa\n",
      "127     Iris-virginica\n",
      "78     Iris-versicolor\n",
      "42         Iris-setosa\n",
      "73     Iris-versicolor\n",
      "75     Iris-versicolor\n",
      "67     Iris-versicolor\n",
      "101     Iris-virginica\n",
      "145     Iris-virginica\n",
      "53     Iris-versicolor\n",
      "121     Iris-virginica\n",
      "97     Iris-versicolor\n",
      "92     Iris-versicolor\n",
      "45         Iris-setosa\n",
      "Name: Species, dtype: object\n"
     ]
    }
   ],
   "execution_count": 5
  },
  {
   "metadata": {},
   "cell_type": "code",
   "outputs": [],
   "execution_count": null,
   "source": "",
   "id": "b74dfa3b174b0d3"
  }
 ],
 "metadata": {
  "kernelspec": {
   "display_name": "Python 3",
   "language": "python",
   "name": "python3"
  },
  "language_info": {
   "codemirror_mode": {
    "name": "ipython",
    "version": 2
   },
   "file_extension": ".py",
   "mimetype": "text/x-python",
   "name": "python",
   "nbconvert_exporter": "python",
   "pygments_lexer": "ipython2",
   "version": "2.7.6"
  }
 },
 "nbformat": 4,
 "nbformat_minor": 5
}
